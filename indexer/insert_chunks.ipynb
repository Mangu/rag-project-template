{
 "cells": [
  {
   "cell_type": "code",
   "execution_count": null,
   "metadata": {},
   "outputs": [],
   "source": [
    "from dotenv import load_dotenv\n",
    "from azure.core.credentials import AzureKeyCredential\n",
    "from azure.search.documents import SearchClient\n",
    "import os\n",
    "import json\n",
    "\n",
    "# Load .env file\n",
    "load_dotenv()\n",
    "\n",
    "# Get settings from .env\n",
    "search_service_name = f\"https://{os.getenv('AZURE_SEARCH_SERVICE_ENDPOINT')}.search.windows.net/\"\n",
    "search_service_api_key = os.getenv(\"AZURE_SEARCH_ADMIN_KEY\")\n",
    "index_name = os.getenv(\"INDEX_NAME\")\n",
    "chucks_file = os.getenv(\"CHUNKS_FILE\")\n",
    "directory = os.path.dirname(os.getcwd())\n",
    "data_file_path = os.path.join(directory, chucks_file)\n",
    "\n",
    "# Create a client\n",
    "credential = AzureKeyCredential(search_service_api_key)\n",
    "client = SearchClient(endpoint=f\"{search_service_name}\", credential=credential, index_name=index_name)"
   ]
  },
  {
   "cell_type": "code",
   "execution_count": null,
   "metadata": {},
   "outputs": [],
   "source": [
    "# Open the JSONL file and read the lines\n",
    "with open(data_file_path, 'r') as f:\n",
    "    # Parse the JSON line into a Python dictionary\n",
    "    documents = [json.loads(line) for line in f]    \n",
    "    \n",
    "    for document in documents:\n",
    "        document['id'] = str(document['id'])\n",
    "        document['page'] = str(document['page'])        \n",
    "\n",
    "    # Insert the documents into the Azure Search index\n",
    "    result = client.upload_documents(documents=documents)\n",
    "\n",
    "    # Check the results . Might want to comment it out if the list of items is too long\n",
    "    for r in result:\n",
    "        if not r.succeeded:\n",
    "            print(f\"Failed to insert document {r.key}: {r.error_message}\")\n",
    "        else:\n",
    "            print(f\"Successfully inserted document {r.key}\")"
   ]
  }
 ],
 "metadata": {
  "kernelspec": {
   "display_name": "env",
   "language": "python",
   "name": "python3"
  },
  "language_info": {
   "codemirror_mode": {
    "name": "ipython",
    "version": 3
   },
   "file_extension": ".py",
   "mimetype": "text/x-python",
   "name": "python",
   "nbconvert_exporter": "python",
   "pygments_lexer": "ipython3",
   "version": "3.12.2"
  }
 },
 "nbformat": 4,
 "nbformat_minor": 2
}
